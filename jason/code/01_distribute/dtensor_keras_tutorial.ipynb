{
 "cells": [
  {
   "cell_type": "markdown",
   "metadata": {},
   "source": [
    "## Using DTensors with Keras"
   ]
  },
  {
   "cell_type": "code",
   "execution_count": 1,
   "metadata": {},
   "outputs": [
    {
     "name": "stdout",
     "output_type": "stream",
     "text": [
      "Created date: Wed, 17 Apr 2024 04:35:29\n",
      "Modified date: Thu, 18 Apr 2024 04:31:09\n"
     ]
    }
   ],
   "source": [
    "from datetime import datetime\n",
    "\n",
    "now = datetime.now().strftime(\"%a, %d %b %Y %H:%M:%S\")\n",
    "print(f\"Created date: Wed, 17 Apr 2024 04:35:29\")\n",
    "print(f\"Modified date: {now}\")"
   ]
  },
  {
   "cell_type": "markdown",
   "metadata": {},
   "source": [
    "### 1. Overview"
   ]
  },
  {
   "cell_type": "markdown",
   "metadata": {},
   "source": [
    "What is DTensors? \n",
    "\n",
    "DTensor(`tf.experimental.dtensor`) as a part of TensorFlow version >= 2.9.0"
   ]
  },
  {
   "cell_type": "markdown",
   "metadata": {},
   "source": [
    "### 2. Setup"
   ]
  },
  {
   "cell_type": "code",
   "execution_count": 2,
   "metadata": {},
   "outputs": [],
   "source": [
    "# !pip install --quiet --upgrade tensorflow-datasets"
   ]
  },
  {
   "cell_type": "code",
   "execution_count": 3,
   "metadata": {},
   "outputs": [
    {
     "name": "stderr",
     "output_type": "stream",
     "text": [
      "2024-04-18 04:31:09.978927: I tensorflow/core/util/port.cc:113] oneDNN custom operations are on. You may see slightly different numerical results due to floating-point round-off errors from different computation orders. To turn them off, set the environment variable `TF_ENABLE_ONEDNN_OPTS=0`.\n",
      "2024-04-18 04:31:10.017703: I tensorflow/core/platform/cpu_feature_guard.cc:210] This TensorFlow binary is optimized to use available CPU instructions in performance-critical operations.\n",
      "To enable the following instructions: AVX2 AVX512F AVX512_VNNI FMA, in other operations, rebuild TensorFlow with the appropriate compiler flags.\n",
      "2024-04-18 04:31:11.155781: W tensorflow/compiler/tf2tensorrt/utils/py_utils.cc:38] TF-TRT Warning: Could not find TensorRT\n"
     ]
    },
    {
     "name": "stdout",
     "output_type": "stream",
     "text": [
      "tensorflow version: 2.16.1\n",
      "tensorflow_datasets version: 4.9.4\n"
     ]
    }
   ],
   "source": [
    "import tensorflow as tf \n",
    "import tensorflow_datasets as tfds\n",
    "from tensorflow.experimental import dtensor\n",
    "\n",
    "print(f\"tensorflow version: {tf.__version__}\")\n",
    "print(f\"tensorflow_datasets version: {tfds.__version__}\")"
   ]
  },
  {
   "cell_type": "markdown",
   "metadata": {},
   "source": [
    "``` python\n",
    "(function) def list_physical_devices(device_type: Any | None = None) -> list[PhysicalDevice]\n",
    "\n",
    "```\n",
    "\n",
    "Return a list of physical devices visible to the host runtime.\n",
    "\n",
    "Physical devices are hardware devices present on the host machine. By default all discovered CPU and GPU devices are considered visible.\n",
    "\n",
    "This API allows querying the physical hardware resources prior to runtime initialization. Thus, giving an opportunity to call any additional configuration APIs. This is in contrast to `tf.config.list_logical_devices`, which triggers runtime initialization in order to list the configured devices.\n",
    "\n",
    "The following example lists the number of visible GPUs on the host.\n",
    "``` shell \n",
    ">>> physical_devices = tf.config.list_physical_devices('GPU')\n",
    ">>> print(\"Num GPUs:\", len(physical_devices))\n",
    "Num GPUs: ...\n",
    "``` \n",
    "\n",
    "However, the number of GPUs available to the runtime may change during runtime initialization due to marking certain devices as not visible or configuring multiple logical devices."
   ]
  },
  {
   "cell_type": "code",
   "execution_count": 4,
   "metadata": {},
   "outputs": [
    {
     "data": {
      "text/plain": [
       "[PhysicalDevice(name='/physical_device:CPU:0', device_type='CPU')]"
      ]
     },
     "execution_count": 4,
     "metadata": {},
     "output_type": "execute_result"
    }
   ],
   "source": [
    "# list_physical_devices\n",
    "tf.config.list_physical_devices('CPU')"
   ]
  },
  {
   "cell_type": "markdown",
   "metadata": {},
   "source": [
    "``` python \n",
    "(function) def set_logical_device_configuration(\n",
    "    device: Any,\n",
    "    logical_devices: Any\n",
    ") -> None\n",
    "```\n",
    "\n",
    "Set the logical device configuration for a `tf.config.PhysicalDevice`.\n",
    "\n",
    "A visible `tf.config.PhysicalDevice` will by default have a single `tf.config.LogicalDevice` associated with it once the runtime is initialized. Specifying a list of tf.config.LogicalDeviceConfiguration objects allows multiple devices to be created on the same `tf.config.PhysicalDevice`.\n",
    "\n",
    "Logical device configurations can be modified by calling this function as long as the runtime is uninitialized. After the runtime is initialized calling this function raises a RuntimeError.\n",
    "\n",
    "The following example splits the CPU into 2 logical devices:\n",
    "\n",
    "```shell\n",
    ">>> physical_devices = tf.config.list_physical_devices('CPU')\n",
    ">>> assert len(physical_devices) == 1, \"No CPUs found\"\n",
    ">>> # Specify 2 virtual CPUs. Note currently memory limit is not supported.\n",
    ">>> try:\n",
    "...   tf.config.set_logical_device_configuration(\n",
    "...     physical_devices[0],\n",
    "...     [tf.config.LogicalDeviceConfiguration(),\n",
    "...      tf.config.LogicalDeviceConfiguration()])\n",
    "...   logical_devices = tf.config.list_logical_devices('CPU')\n",
    "...   assert len(logical_devices) == 2\n",
    "...\n",
    "...   tf.config.set_logical_device_configuration(\n",
    "...     physical_devices[0],\n",
    "...     [tf.config.LogicalDeviceConfiguration(),\n",
    "...      tf.config.LogicalDeviceConfiguration(),\n",
    "...      tf.config.LogicalDeviceConfiguration(),\n",
    "...      tf.config.LogicalDeviceConfiguration()])\n",
    "... except:\n",
    "...   # Cannot modify logical devices once initialized.\n",
    "...   pass\n",
    "```\n",
    "\n",
    "The following example splits the GPU into 2 logical devices with 100 MB each:\n",
    "\n",
    "``` shell\n",
    ">>> physical_devices = tf.config.list_physical_devices('GPU')\n",
    ">>> try:\n",
    "...   tf.config.set_logical_device_configuration(\n",
    "...     physical_devices[0],\n",
    "...     [tf.config.LogicalDeviceConfiguration(memory_limit=100),\n",
    "...      tf.config.LogicalDeviceConfiguration(memory_limit=100)])\n",
    "...\n",
    "...   logical_devices = tf.config.list_logical_devices('GPU')\n",
    "...   assert len(logical_devices) == len(physical_devices) + 1\n",
    "...\n",
    "...   tf.config.set_logical_device_configuration(\n",
    "...     physical_devices[0],\n",
    "...     [tf.config.LogicalDeviceConfiguration(memory_limit=10),\n",
    "...      tf.config.LogicalDeviceConfiguration(memory_limit=10)])\n",
    "... except:\n",
    "...   # Invalid device or cannot modify logical devices once initialized.\n",
    "...   pass\n",
    "```"
   ]
  },
  {
   "cell_type": "raw",
   "metadata": {},
   "source": [
    "# check a number of physical CPUs\n",
    "physical_devices = tf.config.list_physical_devices(\"CPU\")\n",
    "assert len(physical_devices) ==  1, \"No CPUs found\"\n",
    "\n",
    "# specify 2 virtual CPUs \n",
    "try:\n",
    "    tf.config.set_logical_device_configuration(\n",
    "        physical_devices[0],\n",
    "        [\n",
    "            tf.config.LogicalDeviceConfiguration(),\n",
    "            tf.config.LogicalDeviceConfiguration()\n",
    "        ])\n",
    "    \n",
    "    logical_devices = tf.config.list_logical_devices(\"CPU\")\n",
    "    assert len(logical_devices) == 2\n",
    "\n",
    "    tf.config.set_logical_device_configuration(\n",
    "        physical_devices[0],\n",
    "        [\n",
    "            tf.config.LogicalDeviceConfiguration(),\n",
    "            tf.config.LogicalDeviceConfiguration(),\n",
    "            tf.config.LogicalDeviceConfiguration(),\n",
    "            tf.config.LogicalDeviceConfiguration()\n",
    "        ])\n",
    "\n",
    "except Exception as error:\n",
    "    # cannot modify logical devices once initialized\n",
    "    print(f\"Catch this error: {error}\")\n",
    "\n",
    "print(f\"Number of logical CPUs: {len(logical_devices)}\")"
   ]
  },
  {
   "cell_type": "code",
   "execution_count": 5,
   "metadata": {},
   "outputs": [
    {
     "name": "stdout",
     "output_type": "stream",
     "text": [
      "Num of virtual CPUs: 4\n"
     ]
    }
   ],
   "source": [
    "def configure_virtual_cpus(num_cpus: int):\n",
    "    physical_devices = tf.config.list_physical_devices('CPU')\n",
    "\n",
    "    # split one physical device into `num_cpus` logical devices\n",
    "    tf.config.set_logical_device_configuration(\n",
    "        physical_devices[0],\n",
    "        [tf.config.LogicalDeviceConfiguration()] * num_cpus)\n",
    "    \n",
    "# config virtual cpus\n",
    "configure_virtual_cpus(4)\n",
    "\n",
    "# get a list of logical devices\n",
    "virtual_logical_devices = tf.config.list_logical_devices(\"CPU\")\n",
    "\n",
    "print(f\"Num of virtual CPUs: {len(virtual_logical_devices)}\")\n",
    "\n",
    "devices = [f'CPU:{i}' for i in range(4)]\n"
   ]
  },
  {
   "cell_type": "markdown",
   "metadata": {},
   "source": [
    "### 3. Deterministic pseudo-random number generators\n"
   ]
  },
  {
   "cell_type": "markdown",
   "metadata": {},
   "source": [
    "`DTensor API` requires each of the running client to have the same random seeds to have deterministic behaviour for initializing the weights. "
   ]
  },
  {
   "cell_type": "code",
   "execution_count": 14,
   "metadata": {},
   "outputs": [
    {
     "name": "stdout",
     "output_type": "stream",
     "text": [
      "Keras version: 3.2.1\n",
      "TensorFlow version: 2.16.1\n"
     ]
    }
   ],
   "source": [
    "import keras\n",
    "print(f\"Keras version: {keras.__version__}\")\n",
    "print(f\"TensorFlow version: {tf.__version__}\")\n",
    "\n",
    "# This API is removed from the current versions\n",
    "# tf.keras.backend.experimental.enable_tf_random_generator() # AttributeError: module 'keras.backend' has no attribute 'experimental'\n",
    "\n",
    "# TensorFlow version: 2.16.1\n",
    "tf.config.experimental.enable_op_determinism()\n",
    "tf.keras.utils.set_random_seed(1337)"
   ]
  },
  {
   "cell_type": "markdown",
   "metadata": {},
   "source": [
    "### 4. Creating a Data Parallel Mesh"
   ]
  },
  {
   "cell_type": "markdown",
   "metadata": {},
   "source": [
    "`Data Parallel` training is a commonly used parallel tranining scheme.\n",
    "\n",
    "For example: \n",
    "\n",
    "`tf.distribute.MirrorStrategy`\n",
    "\n",
    "With `DTensor`, a `Data Parallel` training loop uses a `Mesh` that consists of a single 'batch' dimension, where each device runs a replica of the model that receives a shard from the global batch."
   ]
  },
  {
   "cell_type": "code",
   "execution_count": 15,
   "metadata": {},
   "outputs": [
    {
     "ename": "ValueError",
     "evalue": "length of devices (4) must be equal to total size of the mesh of shape [8]",
     "output_type": "error",
     "traceback": [
      "\u001b[0;31m---------------------------------------------------------------------------\u001b[0m",
      "\u001b[0;31mValueError\u001b[0m                                Traceback (most recent call last)",
      "\u001b[1;32m/var/lib/ci-user/codespace/tensorflow-docs/jason/code/01_distribute/dtensor_keras_tutorial.ipynb Cell 18\u001b[0m line \u001b[0;36m1\n\u001b[0;32m----> <a href='vscode-notebook-cell://attached-container%2B7b22636f6e7461696e65724e616d65223a222f686f706566756c5f6861736c657474227d/var/lib/ci-user/codespace/tensorflow-docs/jason/code/01_distribute/dtensor_keras_tutorial.ipynb#X31sdnNjb2RlLXJlbW90ZQ%3D%3D?line=0'>1</a>\u001b[0m mesh \u001b[39m=\u001b[39m dtensor\u001b[39m.\u001b[39;49mcreate_mesh([(\u001b[39m\"\u001b[39;49m\u001b[39mbatch\u001b[39;49m\u001b[39m\"\u001b[39;49m, \u001b[39m8\u001b[39;49m)], devices\u001b[39m=\u001b[39;49mdevices)\n\u001b[1;32m      <a href='vscode-notebook-cell://attached-container%2B7b22636f6e7461696e65724e616d65223a222f686f706566756c5f6861736c657474227d/var/lib/ci-user/codespace/tensorflow-docs/jason/code/01_distribute/dtensor_keras_tutorial.ipynb#X31sdnNjb2RlLXJlbW90ZQ%3D%3D?line=1'>2</a>\u001b[0m mesh\n",
      "File \u001b[0;32m/opt/conda/envs/py_3.10/lib/python3.10/site-packages/tensorflow/dtensor/python/mesh_util.py:117\u001b[0m, in \u001b[0;36mcreate_mesh\u001b[0;34m(mesh_dims, mesh_name, devices, device_type, use_xla_spmd)\u001b[0m\n\u001b[1;32m    114\u001b[0m shape \u001b[39m=\u001b[39m [d[\u001b[39m1\u001b[39m] \u001b[39mfor\u001b[39;00m d \u001b[39min\u001b[39;00m mesh_dims]\n\u001b[1;32m    116\u001b[0m \u001b[39mif\u001b[39;00m np\u001b[39m.\u001b[39mprod(shape) \u001b[39m!=\u001b[39m \u001b[39mlen\u001b[39m(device_specs):\n\u001b[0;32m--> 117\u001b[0m   \u001b[39mraise\u001b[39;00m \u001b[39mValueError\u001b[39;00m(\u001b[39mf\u001b[39m\u001b[39m'\u001b[39m\u001b[39mlength of devices (\u001b[39m\u001b[39m{\u001b[39;00m\u001b[39mlen\u001b[39m(device_specs)\u001b[39m}\u001b[39;00m\u001b[39m) must be \u001b[39m\u001b[39m'\u001b[39m\n\u001b[1;32m    118\u001b[0m                    \u001b[39mf\u001b[39m\u001b[39m'\u001b[39m\u001b[39mequal to total size of the mesh of shape \u001b[39m\u001b[39m{\u001b[39;00mshape\u001b[39m}\u001b[39;00m\u001b[39m'\u001b[39m)\n\u001b[1;32m    120\u001b[0m global_device_ids \u001b[39m=\u001b[39m np\u001b[39m.\u001b[39marange(\u001b[39mlen\u001b[39m(device_specs))\u001b[39m.\u001b[39mreshape(shape)\n\u001b[1;32m    121\u001b[0m local_device_ids \u001b[39m=\u001b[39m np\u001b[39m.\u001b[39mravel(global_device_ids)\u001b[39m.\u001b[39mtolist()\n",
      "\u001b[0;31mValueError\u001b[0m: length of devices (4) must be equal to total size of the mesh of shape [8]"
     ]
    }
   ],
   "source": [
    "mesh = dtensor.create_mesh([(\"batch\", 4)], devices=devices)\n",
    "mesh"
   ]
  },
  {
   "cell_type": "markdown",
   "metadata": {},
   "source": [
    "### References"
   ]
  },
  {
   "cell_type": "markdown",
   "metadata": {},
   "source": [
    "1. https://www.tensorflow.org/api_docs/python/tf/config/experimental/enable_op_determinism"
   ]
  }
 ],
 "metadata": {
  "kernelspec": {
   "display_name": "Python 3",
   "language": "python",
   "name": "python3"
  },
  "language_info": {
   "codemirror_mode": {
    "name": "ipython",
    "version": 3
   },
   "file_extension": ".py",
   "mimetype": "text/x-python",
   "name": "python",
   "nbconvert_exporter": "python",
   "pygments_lexer": "ipython3",
   "version": "3.10.14"
  }
 },
 "nbformat": 4,
 "nbformat_minor": 2
}
