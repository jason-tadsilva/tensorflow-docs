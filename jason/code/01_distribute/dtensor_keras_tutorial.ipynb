{
 "cells": [
  {
   "cell_type": "markdown",
   "metadata": {},
   "source": [
    "## Using DTensors with Keras"
   ]
  },
  {
   "cell_type": "code",
   "execution_count": null,
   "metadata": {},
   "outputs": [],
   "source": [
    "from datetime import datetime\n",
    "\n",
    "now = datetime.now().strftime(\"%a, %d %b %Y %H:%M:%S\")\n",
    "print(f\"Created date: Wed, 17 Apr 2024 04:35:29\")\n",
    "print(f\"Modified date: {now}\")"
   ]
  },
  {
   "cell_type": "markdown",
   "metadata": {},
   "source": [
    "### 1. Overview"
   ]
  },
  {
   "cell_type": "markdown",
   "metadata": {},
   "source": [
    "What is DTensors? \n",
    "\n",
    "DTensor(`tf.experimental.dtensor`) as a part of TensorFlow version >= 2.9.0"
   ]
  },
  {
   "cell_type": "markdown",
   "metadata": {},
   "source": [
    "### 2. Setup"
   ]
  },
  {
   "cell_type": "code",
   "execution_count": null,
   "metadata": {},
   "outputs": [],
   "source": [
    "!pip install --quiet --upgrade tensorflow-datasets"
   ]
  },
  {
   "cell_type": "code",
   "execution_count": null,
   "metadata": {},
   "outputs": [],
   "source": [
    "import tensorflow as tf \n",
    "import tensorflow_datasets as tfds\n",
    "from tensorflow.experimental import dtensor\n",
    "\n",
    "print(f\"tensorflow version: {tf.__version__}\")\n",
    "print(f\"tensorflow_datasets version: {tfds.__version__}\")"
   ]
  },
  {
   "cell_type": "markdown",
   "metadata": {},
   "source": [
    "``` python\n",
    "(function) def list_physical_devices(device_type: Any | None = None) -> list[PhysicalDevice]\n",
    "\n",
    "```\n",
    "\n",
    "Return a list of physical devices visible to the host runtime.\n",
    "\n",
    "Physical devices are hardware devices present on the host machine. By default all discovered CPU and GPU devices are considered visible.\n",
    "\n",
    "This API allows querying the physical hardware resources prior to runtime initialization. Thus, giving an opportunity to call any additional configuration APIs. This is in contrast to `tf.config.list_logical_devices`, which triggers runtime initialization in order to list the configured devices.\n",
    "\n",
    "The following example lists the number of visible GPUs on the host.\n",
    "``` shell \n",
    ">>> physical_devices = tf.config.list_physical_devices('GPU')\n",
    ">>> print(\"Num GPUs:\", len(physical_devices))\n",
    "Num GPUs: ...\n",
    "``` \n",
    "\n",
    "However, the number of GPUs available to the runtime may change during runtime initialization due to marking certain devices as not visible or configuring multiple logical devices."
   ]
  },
  {
   "cell_type": "code",
   "execution_count": null,
   "metadata": {},
   "outputs": [],
   "source": [
    "# list_physical_devices\n",
    "tf.config.list_physical_devices('CPU')"
   ]
  },
  {
   "cell_type": "markdown",
   "metadata": {},
   "source": [
    "``` python \n",
    "(function) def set_logical_device_configuration(\n",
    "    device: Any,\n",
    "    logical_devices: Any\n",
    ") -> None\n",
    "```\n",
    "\n",
    "Set the logical device configuration for a `tf.config.PhysicalDevice`.\n",
    "\n",
    "A visible `tf.config.PhysicalDevice` will by default have a single `tf.config.LogicalDevice` associated with it once the runtime is initialized. Specifying a list of tf.config.LogicalDeviceConfiguration objects allows multiple devices to be created on the same `tf.config.PhysicalDevice`.\n",
    "\n",
    "Logical device configurations can be modified by calling this function as long as the runtime is uninitialized. After the runtime is initialized calling this function raises a RuntimeError.\n",
    "\n",
    "The following example splits the CPU into 2 logical devices:\n",
    "\n",
    "```shell\n",
    ">>> physical_devices = tf.config.list_physical_devices('CPU')\n",
    ">>> assert len(physical_devices) == 1, \"No CPUs found\"\n",
    ">>> # Specify 2 virtual CPUs. Note currently memory limit is not supported.\n",
    ">>> try:\n",
    "...   tf.config.set_logical_device_configuration(\n",
    "...     physical_devices[0],\n",
    "...     [tf.config.LogicalDeviceConfiguration(),\n",
    "...      tf.config.LogicalDeviceConfiguration()])\n",
    "...   logical_devices = tf.config.list_logical_devices('CPU')\n",
    "...   assert len(logical_devices) == 2\n",
    "...\n",
    "...   tf.config.set_logical_device_configuration(\n",
    "...     physical_devices[0],\n",
    "...     [tf.config.LogicalDeviceConfiguration(),\n",
    "...      tf.config.LogicalDeviceConfiguration(),\n",
    "...      tf.config.LogicalDeviceConfiguration(),\n",
    "...      tf.config.LogicalDeviceConfiguration()])\n",
    "... except:\n",
    "...   # Cannot modify logical devices once initialized.\n",
    "...   pass\n",
    "```\n",
    "\n",
    "The following example splits the GPU into 2 logical devices with 100 MB each:\n",
    "\n",
    "``` shell\n",
    ">>> physical_devices = tf.config.list_physical_devices('GPU')\n",
    ">>> try:\n",
    "...   tf.config.set_logical_device_configuration(\n",
    "...     physical_devices[0],\n",
    "...     [tf.config.LogicalDeviceConfiguration(memory_limit=100),\n",
    "...      tf.config.LogicalDeviceConfiguration(memory_limit=100)])\n",
    "...\n",
    "...   logical_devices = tf.config.list_logical_devices('GPU')\n",
    "...   assert len(logical_devices) == len(physical_devices) + 1\n",
    "...\n",
    "...   tf.config.set_logical_device_configuration(\n",
    "...     physical_devices[0],\n",
    "...     [tf.config.LogicalDeviceConfiguration(memory_limit=10),\n",
    "...      tf.config.LogicalDeviceConfiguration(memory_limit=10)])\n",
    "... except:\n",
    "...   # Invalid device or cannot modify logical devices once initialized.\n",
    "...   pass\n",
    "```"
   ]
  },
  {
   "cell_type": "code",
   "execution_count": null,
   "metadata": {},
   "outputs": [],
   "source": [
    "# check a number of physical CPUs\n",
    "physical_devices = tf.config.list_physical_devices(\"CPU\")\n",
    "assert len(physical_devices) ==  1, \"No CPUs found\"\n",
    "\n",
    "# specify 2 virtual CPUs \n",
    "try:\n",
    "    tf.config.set_logical_device_configuration(\n",
    "        physical_devices[0],\n",
    "        [\n",
    "            tf.config.LogicalDeviceConfiguration(),\n",
    "            tf.config.LogicalDeviceConfiguration()\n",
    "        ])\n",
    "    \n",
    "    logical_devices = tf.config.list_logical_devices(\"CPU\")\n",
    "    assert len(logical_devices) == 2\n",
    "\n",
    "    tf.config.set_logical_device_configuration(\n",
    "        physical_devices[0],\n",
    "        [\n",
    "            tf.config.LogicalDeviceConfiguration(),\n",
    "            tf.config.LogicalDeviceConfiguration(),\n",
    "            tf.config.LogicalDeviceConfiguration(),\n",
    "            tf.config.LogicalDeviceConfiguration()\n",
    "        ])\n",
    "\n",
    "except Exception as error:\n",
    "    # cannot modify logical devices once initialized\n",
    "    print(f\"Catch this error: {error}\")\n",
    "\n",
    "print(f\"Number of logical CPUs: {len(logical_devices)}\")"
   ]
  },
  {
   "cell_type": "code",
   "execution_count": null,
   "metadata": {},
   "outputs": [],
   "source": [
    "def configure_virtual_cpus(num_cpus: int):\n",
    "    physical_devices = tf.config.list_physical_devices('CPU')\n",
    "\n",
    "    # split one physical device into `num_cpus` logical devices\n",
    "    tf.config.set_logical_device_configuration(\n",
    "        physical_devices[0],\n",
    "        [tf.config.LogicalDeviceConfiguration()] * num_cpus)\n",
    "    \n",
    "# config virtual cpus\n",
    "configure_virtual_cpus(4)\n",
    "\n",
    "# get a list of logical devices\n",
    "virtual_logical_devices = tf.config.list_logical_devices(\"CPU\")\n",
    "\n",
    "print(f\"Num of virtual CPUs: {len(virtual_logical_devices)}\")\n"
   ]
  }
 ],
 "metadata": {
  "kernelspec": {
   "display_name": "Python 3",
   "language": "python",
   "name": "python3"
  },
  "language_info": {
   "codemirror_mode": {
    "name": "ipython",
    "version": 3
   },
   "file_extension": ".py",
   "mimetype": "text/x-python",
   "name": "python",
   "nbconvert_exporter": "python",
   "pygments_lexer": "ipython3",
   "version": "3.11.0rc1"
  }
 },
 "nbformat": 4,
 "nbformat_minor": 2
}
